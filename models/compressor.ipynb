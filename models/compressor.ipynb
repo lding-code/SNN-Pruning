{
 "metadata": {
  "language_info": {
   "codemirror_mode": {
    "name": "ipython",
    "version": 3
   },
   "file_extension": ".py",
   "mimetype": "text/x-python",
   "name": "python",
   "nbconvert_exporter": "python",
   "pygments_lexer": "ipython3",
   "version": "3.7.6-final"
  },
  "orig_nbformat": 2,
  "kernelspec": {
   "name": "python_defaultSpec_1597895884361",
   "display_name": "Python 3.7.6 64-bit ('base': conda)"
  }
 },
 "nbformat": 4,
 "nbformat_minor": 2,
 "cells": [
  {
   "cell_type": "code",
   "execution_count": 121,
   "metadata": {},
   "outputs": [],
   "source": [
    "import numpy as np "
   ]
  },
  {
   "cell_type": "code",
   "execution_count": 122,
   "metadata": {},
   "outputs": [],
   "source": [
    "# read in synapse weight\n",
    "synapse_weight = []\n",
    "with open(\"./input_synapse_weight_9.txt\", \"r\") as f:\n",
    "    n_synapse = [int(x) for x in next(f).split()]\n",
    "    for line in f:\n",
    "        newdata = [float(x) for x in line.split()]\n",
    "        newdata[:2] = [int(x) for x in newdata[:2]]\n",
    "        synapse_weight.append(newdata)\n",
    "synapse_weight = np.array(synapse_weight)"
   ]
  },
  {
   "cell_type": "code",
   "execution_count": 123,
   "metadata": {},
   "outputs": [
    {
     "output_type": "execute_result",
     "data": {
      "text/plain": "array([[0.00000000e+00, 0.00000000e+00, 6.29778979e-21],\n       [0.00000000e+00, 1.00000000e+00, 4.71038625e-19],\n       [0.00000000e+00, 2.00000000e+00, 3.67839114e-09],\n       ...,\n       [7.83000000e+02, 9.70000000e+01, 3.95317755e-16],\n       [7.83000000e+02, 9.80000000e+01, 4.89464499e-14],\n       [7.83000000e+02, 9.90000000e+01, 1.65679907e-12]])"
     },
     "metadata": {},
     "execution_count": 123
    }
   ],
   "source": [
    "synapse_weight"
   ]
  },
  {
   "cell_type": "code",
   "execution_count": 140,
   "metadata": {
    "tags": []
   },
   "outputs": [],
   "source": [
    "prun_ratio = 0.5\n",
    "quan_level = 1024\n",
    "\n",
    "prun_th = np.percentile(synapse_weight[:,2], prun_ratio * 100)\n",
    "\n",
    "pruned_weight = []\n",
    "\n",
    "new_entry = np.zeros(3)\n",
    "\n",
    "for entry in synapse_weight:\n",
    "    if entry[2] > prun_th:\n",
    "        quan_weight = np.round(entry[2] * (quan_level - 1)) / (quan_level - 1)\n",
    "        if (quan_weight > 0):\n",
    "            pruned_weight.append([entry[0], entry[1], quan_weight])\n",
    "\n",
    "with open(\"./input_synapse_weight_prun_{0}_quan_{1}.txt\".format(prun_ratio, quan_level), \"w\") as f:\n",
    "    f.write(\"{0}\\n\".format(int(len(pruned_weight))))\n",
    "    for entry in pruned_weight:\n",
    "        f.write(\"{0} {1} {2:.10g}\\n\".format(int(entry[0]), int(entry[1]), entry[2]))\n"
   ]
  },
  {
   "cell_type": "code",
   "execution_count": 119,
   "metadata": {
    "tags": []
   },
   "outputs": [
    {
     "output_type": "execute_result",
     "data": {
      "text/plain": "7.118161959e-15"
     },
     "metadata": {},
     "execution_count": 119
    }
   ],
   "source": [
    "prun_th"
   ]
  },
  {
   "cell_type": "code",
   "execution_count": 54,
   "metadata": {},
   "outputs": [
    {
     "output_type": "execute_result",
     "data": {
      "text/plain": "192.0"
     },
     "metadata": {},
     "execution_count": 54
    }
   ],
   "source": [
    "synapse_weight[19243, 0]"
   ]
  },
  {
   "cell_type": "code",
   "execution_count": null,
   "metadata": {},
   "outputs": [],
   "source": []
  },
  {
   "cell_type": "code",
   "execution_count": 16,
   "metadata": {},
   "outputs": [
    {
     "output_type": "execute_result",
     "data": {
      "text/plain": "1.0"
     },
     "metadata": {},
     "execution_count": 16
    }
   ],
   "source": [
    "new_entry[2]"
   ]
  },
  {
   "cell_type": "code",
   "execution_count": 7,
   "metadata": {
    "tags": []
   },
   "outputs": [
    {
     "output_type": "stream",
     "name": "stdout",
     "text": "1.0\n"
    }
   ],
   "source": [
    "ql = 2\n",
    "\n",
    "n = 0.6\n",
    "\n",
    "n_l = np.round(n * (ql - 1)) / (ql - 1)\n",
    "print(n_l)"
   ]
  },
  {
   "cell_type": "code",
   "execution_count": 26,
   "metadata": {},
   "outputs": [
    {
     "output_type": "execute_result",
     "data": {
      "text/plain": "2.0"
     },
     "metadata": {},
     "execution_count": 26
    }
   ],
   "source": [
    "np.max(synapse_weight[:][2])"
   ]
  },
  {
   "cell_type": "code",
   "execution_count": 13,
   "metadata": {},
   "outputs": [
    {
     "output_type": "execute_result",
     "data": {
      "text/plain": "1"
     },
     "metadata": {},
     "execution_count": 13
    }
   ],
   "source": [
    "np.argmax(synapse_weight[:][2])"
   ]
  },
  {
   "cell_type": "code",
   "execution_count": 23,
   "metadata": {},
   "outputs": [
    {
     "output_type": "execute_result",
     "data": {
      "text/plain": "2.05259509e-12"
     },
     "metadata": {},
     "execution_count": 23
    }
   ],
   "source": [
    "synapse_weight[3][2]"
   ]
  },
  {
   "cell_type": "code",
   "execution_count": 29,
   "metadata": {},
   "outputs": [
    {
     "output_type": "execute_result",
     "data": {
      "text/plain": "0.9665737117"
     },
     "metadata": {},
     "execution_count": 29
    }
   ],
   "source": [
    "prun_th"
   ]
  },
  {
   "cell_type": "code",
   "execution_count": null,
   "metadata": {},
   "outputs": [],
   "source": []
  }
 ]
}