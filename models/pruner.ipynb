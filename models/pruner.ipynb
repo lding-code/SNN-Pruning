{
 "metadata": {
  "language_info": {
   "codemirror_mode": {
    "name": "ipython",
    "version": 3
   },
   "file_extension": ".py",
   "mimetype": "text/x-python",
   "name": "python",
   "nbconvert_exporter": "python",
   "pygments_lexer": "ipython3",
   "version": "3.7.6-final"
  },
  "orig_nbformat": 2,
  "kernelspec": {
   "name": "python_defaultSpec_1597798842740",
   "display_name": "Python 3.7.6 64-bit ('base': conda)"
  }
 },
 "nbformat": 4,
 "nbformat_minor": 2,
 "cells": [
  {
   "cell_type": "code",
   "execution_count": 1,
   "metadata": {},
   "outputs": [],
   "source": [
    "import numpy as np "
   ]
  },
  {
   "cell_type": "code",
   "execution_count": 27,
   "metadata": {},
   "outputs": [],
   "source": [
    "# read in synapse weight\n",
    "synapse_weight = []\n",
    "with open(\"./input_synapse_weight_9.txt\", \"r\") as f:\n",
    "    n_synapse = [int(x) for x in next(f).split()]\n",
    "    for line in f:\n",
    "        newdata = [float(x) for x in line.split()]\n",
    "        newdata[:2] = [int(x) for x in newdata[:2]]\n",
    "        synapse_weight.append(newdata)\n",
    "synapse_weight = np.array(synapse_weight)"
   ]
  },
  {
   "cell_type": "code",
   "execution_count": 30,
   "metadata": {},
   "outputs": [],
   "source": [
    "prun_ratio = 0.2\n",
    "\n",
    "prun_th = np.percentile(synapse_weight[:,2], prun_ratio * 100)\n",
    "\n",
    "pruned_weight = []\n",
    "\n",
    "for entry in synapse_weight:\n",
    "    if entry[2] > prun_th:\n",
    "        pruned_weight.append(entry)\n",
    "\n",
    "with open(\"./input_synapse_weight_pruned_{0}.txt\".format(prun_ratio), \"w\") as f:\n",
    "    f.write(\"{0}\\n\".format(int(len(pruned_weight))))\n",
    "    for entry in pruned_weight:\n",
    "        f.write(\"{0} {1} {2:.10g}\".format(int(entry[0]), int(entry[1]), entry[2]))\n"
   ]
  },
  {
   "cell_type": "code",
   "execution_count": 31,
   "metadata": {},
   "outputs": [
    {
     "output_type": "execute_result",
     "data": {
      "text/plain": "62720"
     },
     "metadata": {},
     "execution_count": 31
    }
   ],
   "source": [
    "len(pruned_weight)"
   ]
  },
  {
   "cell_type": "code",
   "execution_count": 26,
   "metadata": {},
   "outputs": [
    {
     "output_type": "execute_result",
     "data": {
      "text/plain": "2.0"
     },
     "metadata": {},
     "execution_count": 26
    }
   ],
   "source": [
    "np.max(synapse_weight[:][2])"
   ]
  },
  {
   "cell_type": "code",
   "execution_count": 13,
   "metadata": {},
   "outputs": [
    {
     "output_type": "execute_result",
     "data": {
      "text/plain": "1"
     },
     "metadata": {},
     "execution_count": 13
    }
   ],
   "source": [
    "np.argmax(synapse_weight[:][2])"
   ]
  },
  {
   "cell_type": "code",
   "execution_count": 23,
   "metadata": {},
   "outputs": [
    {
     "output_type": "execute_result",
     "data": {
      "text/plain": "2.05259509e-12"
     },
     "metadata": {},
     "execution_count": 23
    }
   ],
   "source": [
    "synapse_weight[3][2]"
   ]
  },
  {
   "cell_type": "code",
   "execution_count": 29,
   "metadata": {},
   "outputs": [
    {
     "output_type": "execute_result",
     "data": {
      "text/plain": "0.9665737117"
     },
     "metadata": {},
     "execution_count": 29
    }
   ],
   "source": [
    "prun_th"
   ]
  },
  {
   "cell_type": "code",
   "execution_count": null,
   "metadata": {},
   "outputs": [],
   "source": []
  }
 ]
}