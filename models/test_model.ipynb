{
 "metadata": {
  "language_info": {
   "codemirror_mode": {
    "name": "ipython",
    "version": 3
   },
   "file_extension": ".py",
   "mimetype": "text/x-python",
   "name": "python",
   "nbconvert_exporter": "python",
   "pygments_lexer": "ipython3",
   "version": "3.7.6-final"
  },
  "orig_nbformat": 2,
  "kernelspec": {
   "name": "python_defaultSpec_1597723215812",
   "display_name": "Python 3.7.6 64-bit ('base': conda)"
  }
 },
 "nbformat": 4,
 "nbformat_minor": 2,
 "cells": [
  {
   "cell_type": "code",
   "execution_count": 1,
   "metadata": {
    "tags": []
   },
   "outputs": [
    {
     "output_type": "stream",
     "name": "stderr",
     "text": "INFO       Cache size for target \"cython\": 2346 MB.\nYou can call \"clear_cache('cython')\" to delete all files from the cache or manually delete files in the \"C:\\Users\\Lei\\.cython\\brian_extensions\" directory. [brian2]\n"
    }
   ],
   "source": [
    "# STDP unsupervised SNN learning model\n",
    "# Pruned\n",
    "# Digit recognition (MNIST)\n",
    "\n",
    "import numpy as np \n",
    "import struct\n",
    "import matplotlib.pyplot as plt\n",
    "\n",
    "from brian2 import *\n",
    "\n",
    "%matplotlib inline"
   ]
  },
  {
   "cell_type": "code",
   "execution_count": 41,
   "metadata": {},
   "outputs": [],
   "source": [
    "# read in test data\n",
    "\n",
    "batch_tot = 1\n",
    "\n",
    "data_test = []\n",
    "\n",
    "n_input = 0\n",
    "n_sample = 0\n",
    "\n",
    "for batch_index in range(batch_tot):\n",
    "    with open(\"./dataset/MNIST/pst_test_{0}.txt\".format(batch_index), \"r\") as f:\n",
    "        n_inputNeuron, n_newSample = [int(x) for x in next(f).split()]\n",
    "        if (batch_index == 0):\n",
    "            n_input = n_inputNeuron\n",
    "        n_sample = n_sample + n_newSample\n",
    "        for line in f:\n",
    "            data_test.append([float(x) for x in line.split()])\n",
    "\n",
    "\n",
    "# read in MNIST labels\n",
    "\n",
    "label_test = []\n",
    "n_sample = 10000\n",
    "\n",
    "with open(\"./dataset/MNIST/test_label.txt\", \"r\") as f:\n",
    "    for line in f:\n",
    "        label_test.append(int(line))"
   ]
  },
  {
   "cell_type": "code",
   "execution_count": 42,
   "metadata": {},
   "outputs": [],
   "source": [
    "# read in synapse weight\n",
    "synapse_weight = []\n",
    "with open(\"./input_synapse_weight_9.txt\", \"r\") as f:\n",
    "    n_synapse = [int(x) for x in next(f).split()]\n",
    "    for line in f:\n",
    "        newdata = [float(x) for x in line.split()]\n",
    "        newdata[:2] = [int(x) for x in newdata[:2]]\n",
    "        synapse_weight.append(newdata)"
   ]
  },
  {
   "cell_type": "code",
   "execution_count": 43,
   "metadata": {},
   "outputs": [],
   "source": [
    "# Set up parameter for modle training\n",
    "# Network Construction\n",
    "start_scope()\n",
    "\n",
    "\n",
    "prefs.codegen.max_cache_dir_size = 0\n",
    "\n",
    "# Model parameters ===========================================================\n",
    "# size of first layer\n",
    "n_input = 784\n",
    "\n",
    "# synapse weight threshold for pruning\n",
    "w_th = 0.5\n",
    "\n",
    "# neuron parameters *******************************************************\n",
    "# input neuron  -----------------------------------------------------------\n",
    "# input spike rate multiplier\n",
    "rate_multiplier = 10*Hz\n",
    "\n",
    "# excitatory neuron parameters  ---------------------------------------------\n",
    "# number of excitatory neurons\n",
    "n_exc = 100\n",
    "\n",
    "# membrane time constant\n",
    "tau_exc = 50*ms\n",
    "\n",
    "# neuron dynamics\n",
    "eqs_exc = '''\n",
    "dv/dt = -v/tau_exc : 1 (unless refractory)\n",
    "vt_exc : 1\n",
    "n_fire : 1\n",
    "'''\n",
    "\n",
    "# inhibitory neuron parameters ---------------------------------------------\n",
    "# number of inhibitory neurons\n",
    "n_inh = 100\n",
    "\n",
    "# membrane time constant\n",
    "tau_inh = 50 * ms\n",
    "\n",
    "# threshold\n",
    "vt_inh = 0.2\n",
    "\n",
    "# neuron dynamics\n",
    "eqs_inh = '''\n",
    "dv/dt = -v/tau_inh : 1\n",
    "vt : 1\n",
    "'''\n",
    "\n",
    "# synapse parameters  ***********************************************\n",
    "\n",
    "# input synapses ---------------------------------------------------\n",
    "# neuron potential scaler\n",
    "scaler = 5 / 2500\n",
    "\n",
    "# synapse weight learning rate\n",
    "eta = 0\n",
    "\n",
    "# weight change offset (how much negative weight change to have)\n",
    "# synapse dynamics\n",
    "synapse_dynamic = '''\n",
    "w : 1\n",
    "'''\n",
    "\n",
    "synapse_pre_action = '''\n",
    "v_post += w * scaler\n",
    "'''\n",
    "\n",
    "# excitatory synapses ----------------------------------------------------\n",
    "# synapse weight\n",
    "exc_w_0 = 1\n",
    "\n",
    "# synapse dynamics\n",
    "exc_dynamic = '''\n",
    "exc_w : 1\n",
    "'''\n",
    "\n",
    "# synapse on pre action\n",
    "exc_pre_action = '''\n",
    "v_post += exc_w\n",
    "'''\n",
    "\n",
    "# inhibitory synapses ----------------------------------------------------\n",
    "# synapse weight\n",
    "inh_w_0 = 0.0\n",
    "\n",
    "# synapse dynamics\n",
    "inh_dynamic = '''\n",
    "inh_w : 1\n",
    "'''\n",
    "\n",
    "# synapse on pre action\n",
    "inh_pre_action = '''\n",
    "v_post = 0\n",
    "'''\n",
    "\n",
    "# Set up neurons ==========================================================\n",
    "# set up input layer ******************************************************\n",
    "\n",
    "input_layer = PoissonGroup(n_input, data_test[0]*rate_multiplier)\n",
    "\n",
    "# set up excitatory layer *************************************************\n",
    "\n",
    "exc_layer = NeuronGroup(\n",
    "    n_exc, \n",
    "    eqs_exc, \n",
    "    threshold=\"v>vt_exc\", \n",
    "    refractory=\"0*ms\", \n",
    "    reset=\"v=0\", \n",
    "    method=\"exact\", \n",
    "    events={\"fire_record\" : \"v>vt_exc\"})\n",
    "\n",
    "exc_layer.vt_exc = 0.1\n",
    "\n",
    "# neuron action on spike firing event\n",
    "exc_layer.run_on_event(\"fire_record\", '''n_fire += 1''')\n",
    "\n",
    "# set up inhibitory layer **************************************************\n",
    "\n",
    "inh_layer = NeuronGroup(\n",
    "    n_inh,\n",
    "    eqs_inh,\n",
    "    threshold = \"v>vt_inh\",\n",
    "    refractory = \"3*ms\",\n",
    "    reset=\"v=0\",\n",
    "    method=\"exact\"\n",
    ")\n",
    "\n",
    "\n",
    "# Set up synapses =============================================================\n",
    "# Synapses from input layer to excitatory layer *******************************\n",
    "input_s = Synapses(\n",
    "    input_layer, \n",
    "    exc_layer, \n",
    "    synapse_dynamic,\n",
    "    method = \"exact\",\n",
    "    on_pre = synapse_pre_action)\n",
    "\n",
    "input_s.connect()\n",
    "\n",
    "# Initialize / Randomize input synapses\n",
    "# for src_index in range(n_input):\n",
    "#     for dst_index in range(exc_layer.N):\n",
    "#         input_s.w[src_index, dst_index] = eta * uniform(0.1, 0.9)\n",
    "for synapse_info in synapse_weight:\n",
    "    input_s.w[synapse_info[0], synapse_info[1]] = synapse_info[2]\n",
    "\n",
    "# Synapses from exc to inh ****************************************************\n",
    "exc_s = Synapses(\n",
    "    exc_layer,\n",
    "    inh_layer,\n",
    "    exc_dynamic,\n",
    "    on_pre = exc_pre_action\n",
    ")\n",
    "\n",
    "exc_s.connect(condition = \"i == j\")\n",
    "\n",
    "# initialize weight\n",
    "exc_s.exc_w = exc_w_0\n",
    "\n",
    "# Synapses from inh to exc **************************************************\n",
    "inh_s = Synapses(\n",
    "    inh_layer,\n",
    "    exc_layer,\n",
    "    inh_dynamic,\n",
    "    on_pre = inh_pre_action\n",
    ")\n",
    "\n",
    "inh_s.connect(condition = \"i != j\")\n",
    "\n",
    "# initialize weight\n",
    "inh_s.inh_w = inh_w_0\n"
   ]
  },
  {
   "cell_type": "code",
   "execution_count": 44,
   "metadata": {},
   "outputs": [],
   "source": [
    "# read in neuron class label\n",
    "neuron_class = []\n",
    "with open(\"./neuron_class.txt\", \"r\") as f:\n",
    "    n_neuron = int(next(f))\n",
    "    for line in f:\n",
    "        neuron_class.append(int(line))"
   ]
  },
  {
   "cell_type": "code",
   "execution_count": 45,
   "metadata": {},
   "outputs": [],
   "source": [
    "# prepare variable vector\n",
    "\n",
    "neuron_activity = np.zeros(100)\n",
    "\n",
    "pred_label = []"
   ]
  },
  {
   "cell_type": "code",
   "execution_count": 46,
   "metadata": {},
   "outputs": [],
   "source": [
    "neuron_activity[:] = -1"
   ]
  },
  {
   "cell_type": "code",
   "execution_count": 47,
   "metadata": {},
   "outputs": [
    {
     "output_type": "execute_result",
     "data": {
      "text/plain": "array([-1., -1., -1., -1., -1., -1., -1., -1., -1., -1., -1., -1., -1.,\n       -1., -1., -1., -1., -1., -1., -1., -1., -1., -1., -1., -1., -1.,\n       -1., -1., -1., -1., -1., -1., -1., -1., -1., -1., -1., -1., -1.,\n       -1., -1., -1., -1., -1., -1., -1., -1., -1., -1., -1., -1., -1.,\n       -1., -1., -1., -1., -1., -1., -1., -1., -1., -1., -1., -1., -1.,\n       -1., -1., -1., -1., -1., -1., -1., -1., -1., -1., -1., -1., -1.,\n       -1., -1., -1., -1., -1., -1., -1., -1., -1., -1., -1., -1., -1.,\n       -1., -1., -1., -1., -1., -1., -1., -1., -1.])"
     },
     "metadata": {},
     "execution_count": 47
    }
   ],
   "source": [
    "neuron_activity"
   ]
  },
  {
   "cell_type": "code",
   "execution_count": 48,
   "metadata": {
    "tags": []
   },
   "outputs": [
    {
     "output_type": "stream",
     "name": "stdout",
     "text": "0.0% completed\n10.0% completed\n20.0% completed\n30.0% completed\n40.0% completed\n50.0% completed\n60.0% completed\n70.0% completed\n80.0% completed\n90.0% completed\n"
    }
   ],
   "source": [
    "# feature-training model\n",
    "\n",
    "step_size = 10000\n",
    "\n",
    "start = 0\n",
    "\n",
    "stop = start + step_size\n",
    "\n",
    "for sample in range(start, stop):    \n",
    "    # set input layer rates\n",
    "    input_layer.rates = data_test[sample] * rate_multiplier\n",
    "\n",
    "    # learning rate decay after first 100 samples\n",
    "    #if sample > 100:\n",
    "    #    eta = eta / sqrt(sample - 100 )\n",
    "\n",
    "    # reset last pre-synaptic neuron fire time to 0\n",
    "    #input_s.pre_last = 0*ms\n",
    "\n",
    "    # reset voltage to 0\n",
    "    exc_layer.v = 0\n",
    "\n",
    "    # reset fire time\n",
    "    exc_layer.n_fire = 0\n",
    "\n",
    "    # reset total_offset\n",
    "    #input_s.total_offset = 0\n",
    "\n",
    "    # reset neuron activity\n",
    "    neuron_activity[:] = 0\n",
    "    \n",
    "    run(100*ms)\n",
    "\n",
    "    for exc_index in range(100):\n",
    "            neuron_activity[exc_index] = exc_layer.n_fire[exc_index]\n",
    "    \n",
    "    pred_label.append(neuron_class[np.argmax(neuron_activity)])\n",
    "\n",
    "    if sample % 1000 == 0:\n",
    "        print(\"{0}% completed\".format(100 * sample / 10000))\n",
    "\n"
   ]
  },
  {
   "cell_type": "code",
   "execution_count": 49,
   "metadata": {},
   "outputs": [],
   "source": [
    "for num in pred_label:\n",
    "    if num == -1:\n",
    "        print(\"-1\")"
   ]
  },
  {
   "cell_type": "code",
   "execution_count": 50,
   "metadata": {},
   "outputs": [],
   "source": [
    "tot_per_number = np.zeros(10)\n",
    "correct_per_number = np.zeros(10)\n",
    "accuracy_per_number = np.zeros(10)"
   ]
  },
  {
   "cell_type": "code",
   "execution_count": 51,
   "metadata": {},
   "outputs": [],
   "source": [
    "correct_flag = np.zeros(10000)\n",
    "\n",
    "for sample in range(10000):\n",
    "    tot_per_number[label_test[sample]] = tot_per_number[label_test[sample]] + 1\n",
    "    if pred_label[sample] == label_test[sample]:\n",
    "        correct_flag[sample] = 1\n",
    "        correct_per_number[label_test[sample]] = correct_per_number[label_test[sample]]  + 1\n",
    "        \n",
    "accuracy_per_number = correct_per_number / tot_per_number"
   ]
  },
  {
   "cell_type": "code",
   "execution_count": 52,
   "metadata": {},
   "outputs": [],
   "source": [
    "accuracy = np.sum(correct_flag) / 10000"
   ]
  },
  {
   "cell_type": "code",
   "execution_count": 53,
   "metadata": {},
   "outputs": [
    {
     "output_type": "execute_result",
     "data": {
      "text/plain": "0.0979"
     },
     "metadata": {},
     "execution_count": 53
    }
   ],
   "source": [
    "accuracy"
   ]
  },
  {
   "cell_type": "code",
   "execution_count": 54,
   "metadata": {
    "tags": []
   },
   "outputs": [
    {
     "output_type": "stream",
     "name": "stdout",
     "text": "0 : 16.73%\n1 : 0.44%\n2 : 1.36%\n3 : 1.49%\n4 : 24.95%\n5 : 6.17%\n6 : 0.31%\n7 : 38.13%\n8 : 8.32%\n9 : 0.50%\n"
    }
   ],
   "source": [
    "for n in range(10):\n",
    "    print(\"{0} : {1:.2f}%\".format(n, accuracy_per_number[n] * 100))"
   ]
  },
  {
   "cell_type": "code",
   "execution_count": 21,
   "metadata": {},
   "outputs": [
    {
     "output_type": "execute_result",
     "data": {
      "text/plain": "0.15869331224971336"
     },
     "metadata": {},
     "execution_count": 21
    }
   ],
   "source": [
    "np.std(accuracy_per_number)"
   ]
  },
  {
   "cell_type": "code",
   "execution_count": 96,
   "metadata": {},
   "outputs": [
    {
     "output_type": "execute_result",
     "data": {
      "text/plain": "235.3"
     },
     "metadata": {},
     "execution_count": 96
    }
   ],
   "source": [
    "input_spike.t[10000] / ms"
   ]
  },
  {
   "cell_type": "code",
   "execution_count": null,
   "metadata": {},
   "outputs": [],
   "source": []
  },
  {
   "cell_type": "code",
   "execution_count": 136,
   "metadata": {
    "tags": []
   },
   "outputs": [],
   "source": [
    "time_slot = 2000\n",
    "\n",
    "input_spike_entry = []\n",
    "\n",
    "for n in range(784):\n",
    "    input_spike_entry.append([])\n",
    "\n",
    "for n in range(len(input_spike.i)):\n",
    "    if input_spike.t[n] / ms >= time_slot and input_spike.t[n] / ms < time_slot + 100:\n",
    "        input_spike_entry[input_spike.i[n]].append(input_spike.t[n])\n",
    "\n",
    "with open(\"./model 0.3/spike/input/input_{0}.txt\".format(time_slot), \"w\") as f:\n",
    "    f.write(\"{0}\\n\".format(784))\n",
    "    for n in range(784):\n",
    "        for m in input_spike_entry[n]:\n",
    "            f.write(\"{0:.1f} \".format(m / ms))\n",
    "        f.write(\"\\n\")"
   ]
  },
  {
   "cell_type": "code",
   "execution_count": 159,
   "metadata": {},
   "outputs": [],
   "source": [
    "time_slot = 2000\n",
    "\n",
    "exc_spike_entry = []\n",
    "\n",
    "for n in range(100):\n",
    "    exc_spike_entry.append([])\n",
    "\n",
    "for n in range(len(exc_spike.i)):\n",
    "    if exc_spike.t[n] / ms >= time_slot and exc_spike.t[n] / ms < time_slot + 100:\n",
    "        exc_spike_entry[exc_spike.i[n]].append(exc_spike.t[n])\n",
    "\n",
    "with open(\"./model 0.3/spike/exc/exc_{0}.txt\".format(time_slot), \"w\") as f:\n",
    "    f.write(\"{0}\\n\".format(100))\n",
    "    for n in range(100):\n",
    "        for m in exc_spike_entry[n]:\n",
    "            f.write(\"{0:.1f} \".format(m / ms))\n",
    "        f.write(\"\\n\")"
   ]
  },
  {
   "cell_type": "code",
   "execution_count": 160,
   "metadata": {},
   "outputs": [],
   "source": [
    "for time in range(20):\n",
    "\n",
    "    time_slot = time * 100\n",
    "\n",
    "    inh_spike_entry = []\n",
    "\n",
    "    for n in range(100):\n",
    "        inh_spike_entry.append([])\n",
    "\n",
    "    for n in range(len(inh_spike.i)):\n",
    "        if inh_spike.t[n] / ms >= time_slot and inh_spike.t[n] / ms < time_slot + 100:\n",
    "            inh_spike_entry[inh_spike.i[n]].append(inh_spike.t[n])\n",
    "\n",
    "    with open(\"./model 0.3/spike/inh/inh_{0}.txt\".format(time_slot), \"w\") as f:\n",
    "        f.write(\"{0}\\n\".format(100))\n",
    "        for n in range(100):\n",
    "            for m in inh_spike_entry[n]:\n",
    "                f.write(\"{0:.1f} \".format(m / ms))\n",
    "            f.write(\"\\n\")"
   ]
  }
 ]
}