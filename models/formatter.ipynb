{
 "metadata": {
  "language_info": {
   "codemirror_mode": {
    "name": "ipython",
    "version": 3
   },
   "file_extension": ".py",
   "mimetype": "text/x-python",
   "name": "python",
   "nbconvert_exporter": "python",
   "pygments_lexer": "ipython3",
   "version": 3
  },
  "orig_nbformat": 2,
  "kernelspec": {
   "name": "python_defaultSpec_1597121090701",
   "display_name": "Python 3.7.6 64-bit ('base': conda)"
  }
 },
 "nbformat": 4,
 "nbformat_minor": 2,
 "cells": [
  {
   "cell_type": "code",
   "execution_count": 1,
   "metadata": {
    "tags": []
   },
   "outputs": [
    {
     "output_type": "stream",
     "name": "stderr",
     "text": "INFO       Cache size for target \"cython\": 2111 MB.\nYou can call \"clear_cache('cython')\" to delete all files from the cache or manually delete files in the \"C:\\Users\\Lei\\.cython\\brian_extensions\" directory. [brian2]\n"
    }
   ],
   "source": [
    "# STDP unsupervised SNN learning model\n",
    "# Pruned\n",
    "# Digit recognition (MNIST)\n",
    "\n",
    "import numpy as np \n",
    "import struct\n",
    "import matplotlib.pyplot as plt\n",
    "\n",
    "from brian2 import *\n",
    "\n",
    "%matplotlib inline"
   ]
  },
  {
   "cell_type": "code",
   "execution_count": 40,
   "metadata": {},
   "outputs": [],
   "source": [
    "# read in synapse weight\n",
    "synapse_weight = []\n",
    "with open(\"./model 0.3/input_synapse_weight_0-3-20.txt\", \"r\") as f:\n",
    "    n_synapse = [int(x) for x in next(f).split()]\n",
    "    for line in f:\n",
    "        newdata = [float(x) for x in line.split()]\n",
    "        newdata[:2] = [int(x) for x in newdata[:2]]\n",
    "        synapse_weight.append(newdata)"
   ]
  },
  {
   "cell_type": "code",
   "execution_count": 6,
   "metadata": {},
   "outputs": [
    {
     "output_type": "execute_result",
     "data": {
      "text/plain": "[0, 0, 3.409107645e-05]"
     },
     "metadata": {},
     "execution_count": 6
    }
   ],
   "source": [
    "synapse_weight[0]"
   ]
  },
  {
   "cell_type": "code",
   "execution_count": 12,
   "metadata": {},
   "outputs": [
    {
     "output_type": "execute_result",
     "data": {
      "text/plain": "2"
     },
     "metadata": {},
     "execution_count": 12
    }
   ],
   "source": [
    "synapse_weight[2][1]"
   ]
  },
  {
   "cell_type": "code",
   "execution_count": 34,
   "metadata": {},
   "outputs": [
    {
     "output_type": "execute_result",
     "data": {
      "text/plain": "0.6668456039592999"
     },
     "metadata": {},
     "execution_count": 34
    }
   ],
   "source": [
    "np.mean(synapse_weight[:][2])"
   ]
  },
  {
   "cell_type": "code",
   "execution_count": 33,
   "metadata": {},
   "outputs": [
    {
     "output_type": "execute_result",
     "data": {
      "text/plain": "0.888650369869154"
     },
     "metadata": {},
     "execution_count": 33
    }
   ],
   "source": [
    "np.var(synapse_weight[:][2])"
   ]
  },
  {
   "cell_type": "code",
   "execution_count": null,
   "metadata": {},
   "outputs": [],
   "source": []
  },
  {
   "cell_type": "code",
   "execution_count": 50,
   "metadata": {},
   "outputs": [],
   "source": [
    "thld = np.mean(synapse_weight[:][2]) - 0.5 * np.var(synapse_weight[:][2])\n",
    "new_weight = []\n",
    "for entry in synapse_weight:\n",
    "    if entry[2] >= thld:\n",
    "        new_weight.append(entry)"
   ]
  },
  {
   "cell_type": "code",
   "execution_count": 42,
   "metadata": {},
   "outputs": [
    {
     "output_type": "execute_result",
     "data": {
      "text/plain": "47686"
     },
     "metadata": {},
     "execution_count": 42
    }
   ],
   "source": [
    "len(new_weight)"
   ]
  },
  {
   "cell_type": "code",
   "execution_count": 44,
   "metadata": {},
   "outputs": [
    {
     "output_type": "execute_result",
     "data": {
      "text/plain": "[0, 4, 0.01216743792]"
     },
     "metadata": {},
     "execution_count": 44
    }
   ],
   "source": [
    "new_weight[2]"
   ]
  },
  {
   "cell_type": "code",
   "execution_count": 28,
   "metadata": {},
   "outputs": [
    {
     "output_type": "execute_result",
     "data": {
      "text/plain": "0.6668456039592999"
     },
     "metadata": {},
     "execution_count": 28
    }
   ],
   "source": [
    "np.mean(synapse_weight[:][2])"
   ]
  },
  {
   "cell_type": "code",
   "execution_count": 51,
   "metadata": {},
   "outputs": [],
   "source": [
    "# save synapse weight\n",
    "with open(\"./model 0.3/input_synapse_weight_0-3-20 prun-mean (new).txt\", \"w\") as f:\n",
    "    f.write(\"{0}\\n\".format(len(new_weight)))\n",
    "    for line in new_weight:\n",
    "        f.write(\"{0} {1} {2:.10g}\\n\".format(line[0], line[1] + 784, line[2]))"
   ]
  },
  {
   "cell_type": "code",
   "execution_count": null,
   "metadata": {},
   "outputs": [],
   "source": []
  }
 ]
}