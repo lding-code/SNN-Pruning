{
 "metadata": {
  "language_info": {
   "codemirror_mode": {
    "name": "ipython",
    "version": 3
   },
   "file_extension": ".py",
   "mimetype": "text/x-python",
   "name": "python",
   "nbconvert_exporter": "python",
   "pygments_lexer": "ipython3",
   "version": 3
  },
  "orig_nbformat": 2,
  "kernelspec": {
   "name": "python_defaultSpec_1596833897037",
   "display_name": "Python 3.7.6 64-bit ('base': conda)"
  }
 },
 "nbformat": 4,
 "nbformat_minor": 2,
 "cells": [
  {
   "cell_type": "code",
   "execution_count": 1,
   "metadata": {
    "tags": []
   },
   "outputs": [
    {
     "output_type": "stream",
     "name": "stderr",
     "text": "INFO       Cache size for target \"cython\": 1971 MB.\nYou can call \"clear_cache('cython')\" to delete all files from the cache or manually delete files in the \"C:\\Users\\Lei\\.cython\\brian_extensions\" directory. [brian2]\n"
    }
   ],
   "source": [
    "# STDP unsupervised SNN learning model\n",
    "# Pruned\n",
    "# Digit recognition (MNIST)\n",
    "\n",
    "import numpy as np \n",
    "import struct\n",
    "import matplotlib.pyplot as plt\n",
    "\n",
    "from brian2 import *\n",
    "\n",
    "%matplotlib inline"
   ]
  },
  {
   "cell_type": "code",
   "execution_count": 15,
   "metadata": {},
   "outputs": [],
   "source": [
    "# read in test data\n",
    "\n",
    "batch_tot = 1\n",
    "\n",
    "data_test = []\n",
    "\n",
    "n_input = 0\n",
    "n_sample = 0\n",
    "\n",
    "for batch_index in range(batch_tot):\n",
    "    with open(\"./dataset/MNIST/pst_test_{0}.txt\".format(batch_index), \"r\") as f:\n",
    "        n_inputNeuron, n_newSample = [int(x) for x in next(f).split()]\n",
    "        if (batch_index == 0):\n",
    "            n_input = n_inputNeuron\n",
    "        n_sample = n_sample + n_newSample\n",
    "        for line in f:\n",
    "            data_test.append([float(x) for x in line.split()])\n",
    "\n",
    "\n",
    "# read in MNIST labels\n",
    "\n",
    "label_test = []\n",
    "n_sample = 10000\n",
    "\n",
    "with open(\"./dataset/MNIST/test_label.txt\", \"r\") as f:\n",
    "    for line in f:\n",
    "        label_test.append(int(line))"
   ]
  },
  {
   "cell_type": "code",
   "execution_count": 16,
   "metadata": {},
   "outputs": [],
   "source": [
    "# read in synapse weight\n",
    "synapse_weight = []\n",
    "with open(\"./input_synapse_weight_0-3-20.txt\", \"r\") as f:\n",
    "    n_synapse = [int(x) for x in next(f).split()]\n",
    "    for line in f:\n",
    "        newdata = [float(x) for x in line.split()]\n",
    "        newdata[:2] = [int(x) for x in newdata[:2]]\n",
    "        synapse_weight.append(newdata)"
   ]
  },
  {
   "cell_type": "code",
   "execution_count": 85,
   "metadata": {},
   "outputs": [],
   "source": [
    "# Set up parameter for modle training\n",
    "# Network Construction\n",
    "start_scope()\n",
    "\n",
    "prefs.codegen.max_cache_dir_size = 0\n",
    "\n",
    "# Model parameters ===========================================================\n",
    "# size of first layer\n",
    "n_input = 784\n",
    "\n",
    "# synapse weight threshold for pruning\n",
    "w_th = 0.5\n",
    "\n",
    "# neuron parameters *******************************************************\n",
    "# input neuron  -----------------------------------------------------------\n",
    "# input spike rate multiplier\n",
    "rate_multiplier = 10*Hz\n",
    "\n",
    "# excitatory neuron parameters  ---------------------------------------------\n",
    "# number of excitatory neurons\n",
    "n_exc = 100\n",
    "\n",
    "# membrane time constant\n",
    "tau_exc = 50*ms\n",
    "\n",
    "# initial threshold\n",
    "vt_exc_0 = 0.02\n",
    "\n",
    "# initial rest threshold\n",
    "vt_exc_rest_0 = 0.02\n",
    "\n",
    "# threshold increment ratio\n",
    "vt_exc_inc = 0.05\n",
    "\n",
    "# max threshold\n",
    "vt_exc_max = 1\n",
    "\n",
    "# threshold decrese time constant\n",
    "# (was 2000*ms)\n",
    "vt_exc_tau = 1000*ms\n",
    "\n",
    "# neuron dynamics\n",
    "eqs_exc = '''\n",
    "dv/dt = -v/tau_exc : 1\n",
    "vt_exc : 1\n",
    "n_fire : 1\n",
    "'''\n",
    "\n",
    "# inhibitory neuron parameters ---------------------------------------------\n",
    "# number of inhibitory neurons\n",
    "n_inh = 100\n",
    "\n",
    "# membrane time constant\n",
    "tau_inh = 50 * ms\n",
    "\n",
    "# threshold\n",
    "vt_inh = 0.2\n",
    "\n",
    "# neuron dynamics\n",
    "eqs_inh = '''\n",
    "dv/dt = -v/tau_inh : 1\n",
    "'''\n",
    "\n",
    "# synapse parameters  ***********************************************\n",
    "\n",
    "# input synapses ---------------------------------------------------\n",
    "# neuron potential scaler\n",
    "scaler = 0.1 / 2500\n",
    "\n",
    "# synapse dynamics\n",
    "synapse_dynamic = '''\n",
    "w : 1\n",
    "'''\n",
    "\n",
    "synapse_pre_action = '''\n",
    "v_post += w * scaler\n",
    "'''\n",
    "\n",
    "# v_post = clip(v_post + w, 0, 1)v_post = clip(v_post + w, 0, 1)\n",
    "\n",
    "# synapse_post_action = '''\n",
    "# delta_w = eta * ((exp((pre_last - t) / tauw) - offset))\n",
    "# delta_w = delta_w * (wmax - w) * int(delta_w > 0) + delta_w * (w - wmin) * int(delta_w < 0)\n",
    "# w = clip(w + delta_w, 0, 1)\n",
    "# '''\n",
    "\n",
    "# synapse_post_action = '''\n",
    "# new_eta = eta\n",
    "# delta_w = eta * ((exp((pre_last - t) / tauw) - offset)) * (wmax - w)\n",
    "# w = clip(w + delta_w, 0, 1)\n",
    "# '''\n",
    "\n",
    "# excitatory synapses ----------------------------------------------------\n",
    "# synapse weight\n",
    "exc_w_0 = 1\n",
    "\n",
    "# synapse dynamics\n",
    "exc_dynamic = '''\n",
    "exc_w : 1\n",
    "'''\n",
    "\n",
    "# synapse on pre action\n",
    "exc_pre_action = '''\n",
    "v_post += exc_w\n",
    "'''\n",
    "\n",
    "# inhibitory synapses ----------------------------------------------------\n",
    "# synapse weight\n",
    "inh_w_0 = 0.1\n",
    "\n",
    "# synapse dynamics\n",
    "inh_dynamic = '''\n",
    "inh_w : 1\n",
    "'''\n",
    "\n",
    "# synapse on pre action\n",
    "inh_pre_action = '''\n",
    "v_post = v_post * inh_w_0\n",
    "'''\n",
    "\n",
    "# Set up neurons ==========================================================\n",
    "# set up input layer ******************************************************\n",
    "\n",
    "input_layer = PoissonGroup(n_input, data_test[0]*rate_multiplier)\n",
    "\n",
    "\n",
    "# set up excitatory layer *************************************************\n",
    "exc_layer = NeuronGroup(\n",
    "    n_exc, \n",
    "    eqs_exc, \n",
    "    threshold=\"v>vt_exc\", \n",
    "    refractory=\"5*ms\", \n",
    "    reset=\"v=0\", \n",
    "    method=\"exact\",\n",
    "    events={\"fire_record\" : \"v>vt_exc\"})\n",
    "\n",
    "exc_layer.vt_exc = vt_exc_0\n",
    "exc_layer.n_fire = 0\n",
    "\n",
    "# neuron action on spike firing event\n",
    "exc_layer.run_on_event(\"fire_record\", '''n_fire += 1''')\n",
    "\n",
    "# set up inhibitory layer **************************************************\n",
    "\n",
    "inh_layer = NeuronGroup(\n",
    "    n_inh,\n",
    "    eqs_inh,\n",
    "    threshold = \"v>vt_inh\",\n",
    "    refractory = \"3*ms\",\n",
    "    reset=\"v=0\",\n",
    "    method=\"exact\"\n",
    ")\n",
    "\n",
    "\n",
    "# Set up synapses =============================================================\n",
    "# Synapses from input layer to excitatory layer *******************************\n",
    "input_s = Synapses(\n",
    "    input_layer, \n",
    "    exc_layer, \n",
    "    synapse_dynamic,\n",
    "    method = \"exact\",\n",
    "    on_pre = synapse_pre_action)\n",
    "\n",
    "input_s.connect()\n",
    "\n",
    "# Initialize / Randomize input synapses\n",
    "# for src_index in range(n_input):\n",
    "#     for dst_index in range(exc_layer.N):\n",
    "#         input_s.w[src_index, dst_index] = eta * uniform(0.1, 0.9)\n",
    "for synapse_info in synapse_weight:\n",
    "    input_s.w[synapse_info[0], synapse_info[1]] = synapse_info[2]\n",
    "\n",
    "# Synapses from exc to inh ****************************************************\n",
    "exc_s = Synapses(\n",
    "    exc_layer,\n",
    "    inh_layer,\n",
    "    exc_dynamic,\n",
    "    on_pre = exc_pre_action\n",
    ")\n",
    "\n",
    "exc_s.connect(condition = \"i == j\")\n",
    "\n",
    "# initialize weight\n",
    "exc_s.exc_w = exc_w_0\n",
    "\n",
    "\n",
    "# Synapses from inh to exc **************************************************\n",
    "inh_s = Synapses(\n",
    "    inh_layer,\n",
    "    exc_layer,\n",
    "    inh_dynamic,\n",
    "    on_pre = inh_pre_action\n",
    ")\n",
    "\n",
    "inh_s.connect(condition = \"i != j\")\n",
    "\n",
    "# initialize weight\n",
    "inh_s.inh_w = inh_w_0\n",
    "\n",
    "# Set up data recording ======================================================\n",
    "\n",
    "input_spike = SpikeMonitor(input_layer)\n",
    "exc_spike = SpikeMonitor(exc_layer)\n",
    "inh_spike = SpikeMonitor(inh_layer)\n",
    "\n",
    "# pre_update_t = StateMonitor(input_s, \"pre_last\", record=True)\n",
    "\n",
    "# input_w = StateMonitor(input_s, \"w\", record=True)\n",
    "\n",
    "# delta_w_mo = StateMonitor(input_s, \"delta_w\", record=True)\n",
    "\n",
    "# exc_v = StateMonitor(exc_layer, \"v\", record=True) \n",
    "\n",
    "# exc_vt = StateMonitor(exc_layer, \"vt_exc\", record=True)\n",
    "\n",
    "\n",
    "#inh_state = StateMonitor(inh_layer, 'v', record = True)\n",
    "\n",
    "# run(50*ms)\n",
    "\n",
    "# exc_state = StateMonitor(exc_layer, 'v', record = True)\n",
    "# neuron_vt_record = SpikeMonitor(exc_layer)\n",
    "\n",
    "weights_2d_tot = []\n",
    "updates_2d_tot = []\n",
    "threshold_2d_tot = []"
   ]
  },
  {
   "cell_type": "code",
   "execution_count": 86,
   "metadata": {},
   "outputs": [],
   "source": [
    "# read in neuron class label\n",
    "neuron_class = []\n",
    "with open(\"./neuron_class.txt\", \"r\") as f:\n",
    "    n_neuron = int(next(f))\n",
    "    for line in f:\n",
    "        neuron_class.append(int(line))"
   ]
  },
  {
   "cell_type": "code",
   "execution_count": 87,
   "metadata": {},
   "outputs": [],
   "source": [
    "# prepare variable vector\n",
    "\n",
    "neuron_activity = np.zeros(100)\n",
    "\n",
    "pred_label = []"
   ]
  },
  {
   "cell_type": "code",
   "execution_count": 88,
   "metadata": {
    "tags": []
   },
   "outputs": [
    {
     "output_type": "stream",
     "name": "stdout",
     "text": "0.0% completed\n"
    }
   ],
   "source": [
    "# feature-training model\n",
    "\n",
    "step_size = 20\n",
    "\n",
    "start = 0\n",
    "\n",
    "stop = start + step_size\n",
    "\n",
    "for sample in range(start, stop):    \n",
    "    # sequantially lower certain neuron's threshold\n",
    "    input_s\n",
    "\n",
    "    # print(\"{0:.2g}% done...\".format(sample / n_tot_sample * 100))\n",
    "\n",
    "    # set input layer rates\n",
    "    input_layer.rates = data_test[sample] * rate_multiplier\n",
    "\n",
    "    # learning rate decay after first 100 samples\n",
    "    #if sample > 100:\n",
    "    #    eta = eta / sqrt(sample - 100 )\n",
    "\n",
    "    # reset last pre-synaptic neuron fire time to 0\n",
    "    #input_s.pre_last = 0*ms\n",
    "\n",
    "    # reset voltage to 0\n",
    "    exc_layer.v = 0\n",
    "\n",
    "    # reset fire time\n",
    "    exc_layer.n_fire = 0\n",
    "\n",
    "    # reset total_offset\n",
    "    #input_s.total_offset = 0\n",
    "\n",
    "    # reset neuron activity\n",
    "    neuron_activity[:] = 0\n",
    "    \n",
    "    run(100*ms)\n",
    "\n",
    "    for exc_index in range(100):\n",
    "            neuron_activity[exc_index] = exc_layer.n_fire[exc_index]\n",
    "    \n",
    "    pred_label.append(neuron_class[np.argmax(neuron_activity)])\n",
    "\n",
    "    if sample % 1000 == 0:\n",
    "        print(\"{0}% completed\".format(100 * sample / 10000))\n",
    "\n"
   ]
  },
  {
   "cell_type": "code",
   "execution_count": null,
   "metadata": {},
   "outputs": [],
   "source": []
  },
  {
   "cell_type": "code",
   "execution_count": 38,
   "metadata": {},
   "outputs": [
    {
     "output_type": "execute_result",
     "data": {
      "text/plain": "0"
     },
     "metadata": {},
     "execution_count": 38
    }
   ],
   "source": [
    "int(100 * sample / 10000)"
   ]
  },
  {
   "cell_type": "code",
   "execution_count": 32,
   "metadata": {
    "tags": []
   },
   "outputs": [
    {
     "output_type": "stream",
     "name": "stdout",
     "text": "0.04% completed\n"
    }
   ],
   "source": [
    "print(\"{0}% completed\".format(100 * sample / 10000))"
   ]
  },
  {
   "cell_type": "code",
   "execution_count": 28,
   "metadata": {},
   "outputs": [
    {
     "output_type": "execute_result",
     "data": {
      "text/plain": "[7, 2, 1, 0, 4]"
     },
     "metadata": {},
     "execution_count": 28
    }
   ],
   "source": [
    "pred_label"
   ]
  },
  {
   "cell_type": "code",
   "execution_count": 59,
   "metadata": {},
   "outputs": [],
   "source": [
    "tot_per_number = np.zeros(10)\n",
    "correct_per_number = np.zeros(10)\n",
    "accuracy_per_number = np.zeros(10)"
   ]
  },
  {
   "cell_type": "code",
   "execution_count": 60,
   "metadata": {},
   "outputs": [],
   "source": [
    "correct_flag = np.zeros(10000)\n",
    "\n",
    "for sample in range(10000):\n",
    "    tot_per_number[label_test[sample]] = tot_per_number[label_test[sample]] + 1\n",
    "    if pred_label[sample] == label_test[sample]:\n",
    "        correct_flag[sample] = 1\n",
    "        correct_per_number[label_test[sample]] = correct_per_number[label_test[sample]]  + 1\n",
    "        \n",
    "accuracy_per_number = correct_per_number / tot_per_number"
   ]
  },
  {
   "cell_type": "code",
   "execution_count": 53,
   "metadata": {},
   "outputs": [],
   "source": [
    "accuracy = np.sum(correct_flag) / 10000"
   ]
  },
  {
   "cell_type": "code",
   "execution_count": 55,
   "metadata": {},
   "outputs": [
    {
     "output_type": "execute_result",
     "data": {
      "text/plain": "0.7684"
     },
     "metadata": {},
     "execution_count": 55
    }
   ],
   "source": [
    "accuracy"
   ]
  },
  {
   "cell_type": "code",
   "execution_count": 62,
   "metadata": {
    "tags": []
   },
   "outputs": [
    {
     "output_type": "stream",
     "name": "stdout",
     "text": "0 : 90.71%\n1 : 91.98%\n2 : 71.71%\n3 : 84.16%\n4 : 52.85%\n5 : 70.40%\n6 : 95.09%\n7 : 78.02%\n8 : 58.11%\n9 : 72.84%\n"
    }
   ],
   "source": [
    "for n in range(10):\n",
    "    print(\"{0} : {1:.2f}%\".format(n, accuracy_per_number[n] * 100))"
   ]
  },
  {
   "cell_type": "code",
   "execution_count": 63,
   "metadata": {},
   "outputs": [
    {
     "output_type": "execute_result",
     "data": {
      "text/plain": "0.13488115816816637"
     },
     "metadata": {},
     "execution_count": 63
    }
   ],
   "source": [
    "np.std(accuracy_per_number)"
   ]
  },
  {
   "cell_type": "code",
   "execution_count": 89,
   "metadata": {},
   "outputs": [
    {
     "output_type": "execute_result",
     "data": {
      "text/plain": "93232"
     },
     "metadata": {},
     "execution_count": 89
    }
   ],
   "source": [
    "len(input_spike.i)"
   ]
  },
  {
   "cell_type": "code",
   "execution_count": 90,
   "metadata": {},
   "outputs": [
    {
     "output_type": "execute_result",
     "data": {
      "text/plain": "93232"
     },
     "metadata": {},
     "execution_count": 90
    }
   ],
   "source": [
    "len(input_spike.t)"
   ]
  },
  {
   "cell_type": "code",
   "execution_count": 96,
   "metadata": {},
   "outputs": [
    {
     "output_type": "execute_result",
     "data": {
      "text/plain": "235.3"
     },
     "metadata": {},
     "execution_count": 96
    }
   ],
   "source": [
    "input_spike.t[10000] / ms"
   ]
  },
  {
   "cell_type": "code",
   "execution_count": null,
   "metadata": {},
   "outputs": [],
   "source": []
  },
  {
   "cell_type": "code",
   "execution_count": 136,
   "metadata": {
    "tags": []
   },
   "outputs": [],
   "source": [
    "time_slot = 2000\n",
    "\n",
    "input_spike_entry = []\n",
    "\n",
    "for n in range(784):\n",
    "    input_spike_entry.append([])\n",
    "\n",
    "for n in range(len(input_spike.i)):\n",
    "    if input_spike.t[n] / ms >= time_slot and input_spike.t[n] / ms < time_slot + 100:\n",
    "        input_spike_entry[input_spike.i[n]].append(input_spike.t[n])\n",
    "\n",
    "with open(\"./model 0.3/spike/input/input_{0}.txt\".format(time_slot), \"w\") as f:\n",
    "    f.write(\"{0}\\n\".format(784))\n",
    "    for n in range(784):\n",
    "        for m in input_spike_entry[n]:\n",
    "            f.write(\"{0:.1f} \".format(m / ms))\n",
    "        f.write(\"\\n\")"
   ]
  },
  {
   "cell_type": "code",
   "execution_count": 159,
   "metadata": {},
   "outputs": [],
   "source": [
    "time_slot = 2000\n",
    "\n",
    "exc_spike_entry = []\n",
    "\n",
    "for n in range(100):\n",
    "    exc_spike_entry.append([])\n",
    "\n",
    "for n in range(len(exc_spike.i)):\n",
    "    if exc_spike.t[n] / ms >= time_slot and exc_spike.t[n] / ms < time_slot + 100:\n",
    "        exc_spike_entry[exc_spike.i[n]].append(exc_spike.t[n])\n",
    "\n",
    "with open(\"./model 0.3/spike/exc/exc_{0}.txt\".format(time_slot), \"w\") as f:\n",
    "    f.write(\"{0}\\n\".format(100))\n",
    "    for n in range(100):\n",
    "        for m in exc_spike_entry[n]:\n",
    "            f.write(\"{0:.1f} \".format(m / ms))\n",
    "        f.write(\"\\n\")"
   ]
  },
  {
   "cell_type": "code",
   "execution_count": 160,
   "metadata": {},
   "outputs": [],
   "source": [
    "for time in range(20):\n",
    "\n",
    "    time_slot = time * 100\n",
    "\n",
    "    inh_spike_entry = []\n",
    "\n",
    "    for n in range(100):\n",
    "        inh_spike_entry.append([])\n",
    "\n",
    "    for n in range(len(inh_spike.i)):\n",
    "        if inh_spike.t[n] / ms >= time_slot and inh_spike.t[n] / ms < time_slot + 100:\n",
    "            inh_spike_entry[inh_spike.i[n]].append(inh_spike.t[n])\n",
    "\n",
    "    with open(\"./model 0.3/spike/inh/inh_{0}.txt\".format(time_slot), \"w\") as f:\n",
    "        f.write(\"{0}\\n\".format(100))\n",
    "        for n in range(100):\n",
    "            for m in inh_spike_entry[n]:\n",
    "                f.write(\"{0:.1f} \".format(m / ms))\n",
    "            f.write(\"\\n\")"
   ]
  }
 ]
}