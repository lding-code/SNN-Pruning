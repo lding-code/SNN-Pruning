{
 "cells": [
  {
   "cell_type": "code",
   "execution_count": 12,
   "metadata": {},
   "outputs": [],
   "source": [
    "from brian2 import *\n",
    "import numpy as np \n",
    "%matplotlib inline"
   ]
  },
  {
   "cell_type": "code",
   "execution_count": null,
   "metadata": {},
   "outputs": [],
   "source": [
    "def visulize_network(S):\n",
    "    Ns = len(S.source)\n",
    "    Nt = len(S.target)\n",
    "    figure(figsize=(10, 4))\n",
    "    subplot(121)\n",
    "    plot(zeros(Ns), arange(Ns), 'ok', ms=10)\n",
    "    plot(ones(Nt), arange(Nt), 'ok', ms=10)\n",
    "    for i, j in zip(S.i, S.j):\n",
    "        plot([0, 1], [i, j], '-k')\n",
    "    xticks([0, 1], ['Source', 'Target'])\n",
    "    ylabel('Neuron index')\n",
    "    xlim(-0.1, 1.1)\n",
    "    ylim(-1, max(Ns, Nt))\n",
    "    subplot(122)\n",
    "    plot(S.i, S.j, 'ok')\n",
    "    xlim(-1, Ns)\n",
    "    ylim(-1, Nt)\n",
    "    xlabel('Source neuron index')\n",
    "    ylabel('Target neuron index')"
   ]
  },
  {
   "cell_type": "code",
   "execution_count": 8,
   "metadata": {},
   "outputs": [],
   "source": [
    "#feed forward network\n",
    "\n",
    "eqs = '''\n",
    "dv/dt = (I-v)/tau : 1\n",
    "I : 1\n",
    "tau : second\n",
    "'''\n",
    "\n",
    "\n",
    "# define neuron groups\n",
    "N1 = 64\n",
    "L1 = NeuronGroup(N1, eqs, threshold='v>1', reset='v = 0', method='exact')\n",
    "L1.I = 2\n",
    "L1.tau = 10*ms\n",
    "\n",
    "N2 = 16\n",
    "L2 = NeuronGroup(N2, eqs, threshold='v>1', reset='v = 0', method='exact')\n",
    "L2.I = 0\n",
    "L2.tau = 100*ms\n",
    "\n",
    "N3 = 16\n",
    "L3 = NeuronGroup(N3, eqs, threshold='v>1', reset='v = 0', method='exact')\n",
    "L3.I = 0\n",
    "L3.tau = 100*ms\n",
    "\n",
    "N4 = 10\n",
    "L4 = NeuronGroup(N4, eqs, threshold='v>1', reset='v = 0', method='exact')\n",
    "L4.I = 0\n",
    "L4.tau = 100*ms\n",
    "\n",
    "# create synapses from L1 to L2 (all to all)\n",
    "S12 = Synapses(L1, L2, on_pre = 'v_post += 0.1')\n",
    "S12.connect()\n",
    "\n",
    "# create synapses from L2 to L3 (one to one)\n",
    "S23 = Synapses(L2, L3, on_pre = 'v_post += 0.1')\n",
    "S23.connect(condition='i==j')\n",
    "\n",
    "# create synapses from L3 to L4 (one to one)\n",
    "S34 = Synapses(L3, L4, on_pre = 'v_post += 0.1')\n",
    "S34.connect()\n",
    "\n",
    "M1 = StateMonitor(L1, 'v', record=True)\n",
    "M2 = StateMonitor(L2, 'v', record=True)\n",
    "M3 = StateMonitor(L3, 'v', record=True)\n",
    "M4 = StateMonitor(L4, 'v', record=True)\n",
    "\n",
    "run(50*ms)"
   ]
  },
  {
   "cell_type": "code",
   "execution_count": 18,
   "metadata": {},
   "outputs": [],
   "source": [
    "#feed forward network\n",
    "\n",
    "eqs = '''\n",
    "dv/dt = (I-v)/tau : 1\n",
    "I : 1\n",
    "tau : second\n",
    "'''\n",
    "\n",
    "# specify number of neurons of each layer\n",
    "N = np.array([64, 16, 16, 10])\n",
    "N_tot = np.sum(N)\n",
    "\n",
    "G = NeuronGroup(N_tot, eqs, threshold='v>1', reset='v = 0', method='exact')\n"
   ]
  },
  {
   "cell_type": "code",
   "execution_count": 9,
   "metadata": {},
   "outputs": [],
   "source": [
    "# feed forward network with recurrence\n",
    "\n",
    "\n",
    "\n"
   ]
  },
  {
   "cell_type": "code",
   "execution_count": 10,
   "metadata": {},
   "outputs": [],
   "source": [
    "# sparsely connected recurrent network"
   ]
  },
  {
   "cell_type": "code",
   "execution_count": 11,
   "metadata": {},
   "outputs": [],
   "source": [
    "# locally connected recurrent network"
   ]
  },
  {
   "cell_type": "code",
   "execution_count": 19,
   "metadata": {},
   "outputs": [],
   "source": [
    "# fully connected recurrent network\n",
    "start_scope()\n",
    "\n",
    "# specify number of neurons\n",
    "N = 32\n",
    "\n",
    "eqs = '''\n",
    "dv/dt = (I-v)/tau : 1\n",
    "I : 1\n",
    "tau : second\n",
    "'''\n",
    "\n",
    "G = NeuronGroup(N1, eqs, threshold='v>1', reset='v = 0', method='exact')\n",
    "S = Synapses(G, G, 'w : 1', on_pre='v_post += w')\n",
    "S.connect()\n"
   ]
  },
  {
   "cell_type": "code",
   "execution_count": null,
   "metadata": {},
   "outputs": [],
   "source": []
  }
 ],
 "metadata": {
  "language_info": {
   "codemirror_mode": {
    "name": "ipython",
    "version": 3
   },
   "file_extension": ".py",
   "mimetype": "text/x-python",
   "name": "python",
   "nbconvert_exporter": "python",
   "pygments_lexer": "ipython3",
   "version": "3.7.6-final"
  },
  "orig_nbformat": 2,
  "kernelspec": {
   "name": "python3",
   "display_name": "Python 3"
  }
 },
 "nbformat": 4,
 "nbformat_minor": 2
}